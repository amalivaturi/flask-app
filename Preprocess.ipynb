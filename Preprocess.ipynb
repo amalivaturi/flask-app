{
 "cells": [
  {
   "cell_type": "code",
   "execution_count": 47,
   "source": [
    "import pandas as pd\r\n",
    "\r\n",
    "outbound_orders1 = pd.read_csv(\"OutboundOrders_20210907_aThingz.csv\")"
   ],
   "outputs": [
    {
     "output_type": "stream",
     "name": "stderr",
     "text": [
      "C:\\Users\\amali\\anaconda3\\lib\\site-packages\\IPython\\core\\interactiveshell.py:3165: DtypeWarning: Columns (0) have mixed types.Specify dtype option on import or set low_memory=False.\n",
      "  has_raised = await self.run_ast_nodes(code_ast.body, cell_name,\n"
     ]
    }
   ],
   "metadata": {}
  },
  {
   "cell_type": "code",
   "execution_count": 146,
   "source": [
    "# imports up here can be used to\r\n",
    "import pandas as pd\r\n",
    "import datetime\r\n",
    "\r\n",
    "# The entry point function MUST have two input arguments.\r\n",
    "# If the input port is not connected, the corresponding\r\n",
    "# dataframe argument will be None.\r\n",
    "#   Param<dataframe1>: a pandas.DataFrame\r\n",
    "#   Param<dataframe2>: a pandas.DataFrame\r\n",
    "def azureml_main(dataframe1 = None, dataframe2 = None):\r\n",
    "\r\n",
    "    # Execution logic goes here\r\n",
    "    #print(f'Input pandas.DataFrame #1: {dataframe1}')\r\n",
    "\r\n",
    "        \r\n",
    "\r\n",
    "    outbound_orders = dataframe1\r\n",
    "\r\n",
    "    outbound_orders['ORIGIN_FACILITY_ID'] = [str(i) for i in outbound_orders1['ORIGIN_FACILITY_ID']]\r\n",
    "\r\n",
    "    outbound_orders = outbound_orders.loc[outbound_orders['ORIGIN_FACILITY_ID'] == 'ATL'] \r\n",
    "\r\n",
    "\r\n",
    "    #outbound_orders['ORDER_CREATE_DATE'] = [i[1:] for i in outbound_orders['ORDER_CREATE_DATE']]\r\n",
    "    \r\n",
    "    outbound_orders['ORDER_CREATE_DATE'] = [ datetime.datetime.strptime(i,'%Y-%m-%d %H:%M:%S').strftime('%Y-%m-%d') for i in outbound_orders['ORDER_CREATE_DATE']]\r\n",
    "    \r\n",
    "    outbound_orders = outbound_orders.groupby(['ITEM_NUMBER', 'ORDER_CREATE_DATE']).sum()['ORDER_QTY']\r\n",
    "\r\n",
    "    outbound_orders = outbound_orders.to_frame(name = 'ORDER_QTY').reset_index()\r\n",
    "    \r\n",
    "    \r\n",
    "    \r\n",
    "    #outbound_orders = outbound_orders.unstack()\r\n",
    "    \r\n",
    "\r\n",
    "    #outbound_orders = pd.DataFrame(outbound_orders)\r\n",
    "\r\n",
    "    \r\n",
    "    \r\n",
    "    outbound_orders = outbound_orders.fillna(0)\r\n",
    "\r\n",
    "    outbound_orders = pd.melt(outbound_orders,id_vars=['ITEM_NUMBER','ORDER_CREATE_DATE'],value_vars=['ORDER_QTY'])\r\n",
    "    print(outbound_orders)\r\n",
    "\r\n",
    "    \r\n",
    "    \r\n",
    "\r\n",
    "\r\n",
    "\r\n",
    "    # If a zip file is connected to the third input port,\r\n",
    "    # it is unzipped under \"./Script Bundle\". This directory is added\r\n",
    "    # to sys.path. Therefore, if your zip file contains a Python file\r\n",
    "    # mymodule.py you can import it using:\r\n",
    "    # import mymodule\r\n",
    "\r\n",
    "    # Return value must be of a sequence of pandas.DataFrame\r\n",
    "    # E.g.\r\n",
    "    #   -  Single return value: return dataframe1,\r\n",
    "    #   -  Two return values: return dataframe1, dataframe2\r\n",
    "    dataframe1 = outbound_orders\r\n",
    "    \r\n",
    "\r\n",
    "    return dataframe1"
   ],
   "outputs": [],
   "metadata": {}
  },
  {
   "cell_type": "code",
   "execution_count": 147,
   "source": [
    "azureml_main(outbound_orders1)"
   ],
   "outputs": [
    {
     "output_type": "stream",
     "name": "stderr",
     "text": [
      "<ipython-input-146-4861959bb39f>:26: SettingWithCopyWarning: \n",
      "A value is trying to be set on a copy of a slice from a DataFrame.\n",
      "Try using .loc[row_indexer,col_indexer] = value instead\n",
      "\n",
      "See the caveats in the documentation: https://pandas.pydata.org/pandas-docs/stable/user_guide/indexing.html#returning-a-view-versus-a-copy\n",
      "  outbound_orders['ORDER_CREATE_DATE'] = [ datetime.datetime.strptime(i,'%Y-%m-%d %H:%M:%S').strftime('%Y-%m-%d') for i in outbound_orders['ORDER_CREATE_DATE']]\n"
     ]
    },
    {
     "output_type": "stream",
     "name": "stdout",
     "text": [
      "        ITEM_NUMBER ORDER_CREATE_DATE   variable  value\n",
      "0        07BWT10680        2021-01-06  ORDER_QTY    1.0\n",
      "1        07BWT10680        2021-01-12  ORDER_QTY    1.0\n",
      "2        07BWT10680        2021-01-15  ORDER_QTY    5.0\n",
      "3        07BWT10680        2021-01-22  ORDER_QTY    3.0\n",
      "4        07BWT10680        2021-01-27  ORDER_QTY    6.0\n",
      "...             ...               ...        ...    ...\n",
      "149682  ZWSA24CRDWA        2021-06-30  ORDER_QTY    1.0\n",
      "149683  ZWSA24CRDWA        2021-07-14  ORDER_QTY    2.0\n",
      "149684  ZWSA24CRDWA        2021-08-16  ORDER_QTY    1.0\n",
      "149685  ZWSA24PRDWB        2021-02-08  ORDER_QTY    1.0\n",
      "149686  ZWSA24PRDWB        2021-05-04  ORDER_QTY    2.0\n",
      "\n",
      "[149687 rows x 4 columns]\n"
     ]
    },
    {
     "output_type": "execute_result",
     "data": {
      "text/plain": [
       "(        ITEM_NUMBER ORDER_CREATE_DATE   variable  value\n",
       " 0        07BWT10680        2021-01-06  ORDER_QTY    1.0\n",
       " 1        07BWT10680        2021-01-12  ORDER_QTY    1.0\n",
       " 2        07BWT10680        2021-01-15  ORDER_QTY    5.0\n",
       " 3        07BWT10680        2021-01-22  ORDER_QTY    3.0\n",
       " 4        07BWT10680        2021-01-27  ORDER_QTY    6.0\n",
       " ...             ...               ...        ...    ...\n",
       " 149682  ZWSA24CRDWA        2021-06-30  ORDER_QTY    1.0\n",
       " 149683  ZWSA24CRDWA        2021-07-14  ORDER_QTY    2.0\n",
       " 149684  ZWSA24CRDWA        2021-08-16  ORDER_QTY    1.0\n",
       " 149685  ZWSA24PRDWB        2021-02-08  ORDER_QTY    1.0\n",
       " 149686  ZWSA24PRDWB        2021-05-04  ORDER_QTY    2.0\n",
       " \n",
       " [149687 rows x 4 columns],)"
      ]
     },
     "metadata": {},
     "execution_count": 147
    }
   ],
   "metadata": {}
  },
  {
   "cell_type": "code",
   "execution_count": null,
   "source": [],
   "outputs": [],
   "metadata": {}
  }
 ],
 "metadata": {
  "orig_nbformat": 4,
  "language_info": {
   "name": "python",
   "version": "3.8.8",
   "mimetype": "text/x-python",
   "codemirror_mode": {
    "name": "ipython",
    "version": 3
   },
   "pygments_lexer": "ipython3",
   "nbconvert_exporter": "python",
   "file_extension": ".py"
  },
  "kernelspec": {
   "name": "python3",
   "display_name": "Python 3.8.8 64-bit ('base': conda)"
  },
  "interpreter": {
   "hash": "d8d645769bd87cbf3364ada83f1d3f4be8504383f22621dabb8ed88ce500d916"
  }
 },
 "nbformat": 4,
 "nbformat_minor": 2
}